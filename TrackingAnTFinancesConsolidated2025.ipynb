{
 "cells": [
  {
   "cell_type": "code",
   "execution_count": 124,
   "metadata": {},
   "outputs": [],
   "source": [
    "import pandas as pd\n",
    "import re # re.search etc. regular expressions"
   ]
  },
  {
   "cell_type": "markdown",
   "metadata": {},
   "source": [
    "Create the Reference Table:\n",
    "Create a DataFrame that defines your categories, subcategories, and corresponding descriptions."
   ]
  },
  {
   "cell_type": "code",
   "execution_count": 125,
   "metadata": {},
   "outputs": [],
   "source": [
    "import pandas as pd\n",
    "\n",
    "# Reference table for categories and subcategories\n",
    "# ???? CENTER FOR INTUITIVE P WARREN OH\n",
    "# ???? GOOGLE *Symfonium Musi g.co/helppay#CA\n",
    "# ??? CLEVELAND KIDNEY & HYP 216-2616253 OH\n",
    "categories_data = {\n",
    "    'Income': {\n",
    "        'Anita Income': ['ZELLE DEP ANITA'],\n",
    "        'Fidelity Transfer': ['FID ']\n",
    "    },\n",
    "    'Rewards': {\n",
    "        'KeyBank Cash-Back': ['KEY REWARDS', 'GIFT FROM KEY BANK']\n",
    "    },\n",
    "    'Taxes': {\n",
    "        'Taxes': ['TAXREFUND', 'IRS', 'TAX REF', 'RITA']\n",
    "    },\n",
    "    'Payments': {\n",
    "        'Visa Payment': ['INTERNET TRF TO CCA']\n",
    "    },\n",
    "    'Fees': {\n",
    "        'Transaction Fees': ['TRANSACTION FEE']\n",
    "    },\n",
    "    # PRESUMABLY CHECKING ACCT\n",
    "    'Housing': {\n",
    "        'Mortgage': ['WFHM'],\n",
    "        'Bills n Utilities': ['VERIZON', 'DOMINION', 'FIRST ENERGY', 'NORTHEAST OHIO', 'CLEVELAND HEIGHTS', 'ENBRIDGE GAS', 'ATT', 'NEORSD', 'CWD']\n",
    "    },\n",
    "    'Insurance': {\n",
    "        'Medical Insurance': ['MEDICARE', 'VSP', 'UNITEDHEALTHCARE', 'ROCKWELL', 'AARP HEALTH'],\n",
    "        'Car Insurance': ['LIBERTY MUTUAL']\n",
    "    },\n",
    "    'Education': {\n",
    "        'College Tuition': ['SMARTPAYCIA', 'CASHNET', 'CIA', 'BURREN', 'COLLEGE'],\n",
    "        'Art Supplies': ['UTRECHT', ' ART ']\n",
    "    },\n",
    "    # PRESUMABLY CREDIT\n",
    "    'Transportation': {\n",
    "        'Gas': ['SUNOCO', 'BP', 'SHELL', 'MARATHON', 'CIRCLE K', 'SHEETZ', 'GAS'],\n",
    "        'Car Maintenance': ['REPAIR', 'AUTO', 'BODY', 'QUALITY AUTO'],\n",
    "        'Car Registration' : ['BUREAU MOTOR VE']\n",
    "    },\n",
    "    'Food': {\n",
    "        'Groceries': ['GROCERY', 'HEINEN', 'DAVE', 'WHOLE', 'SODA', 'TRADE'],\n",
    "        'Dining Out': ['TAVERN', 'TOMMYS', 'CAFE', 'WASABI', 'PACIFIC', 'ANATOLIA', 'BATUQUI', 'PHO', 'LAKE HOUSE', 'DEWEY',\\\n",
    "                        'BANANA', 'BANGKOK', 'HIBACHI', 'LOTUS', 'SUBSHOPPE', 'NATURES OASIS', 'BRASSICA', 'RESTAUR', 'BUFFALO', 'COZUMEL'],\n",
    "        'Fast Food': ['LEFTY', 'SHAKE SHACK', 'WENDY', 'BUDDA', 'CILANTRO', 'PANERA', 'CHIPOTLE', 'BIBIBOP', 'ROGERS', 'PIADA'],\n",
    "        'World Food': ['KRAKOW', 'NIPA HUT'],\n",
    "        'Why DOORDASH?': ['DOORDASH']\n",
    "    },\n",
    "    'Health & Beauty': {\n",
    "        'Aikido n Yoga': ['CHECK', ' YOGA'], \n",
    "        'Beauty n Supplies': ['LADIES', 'BATH', 'SALLY BEAUTY', 'AVEDA', 'LUSH BEACHWOOD', 'AIKIKAI', 'AIKIDO', 'ATMA', 'PADDLE'],\n",
    "        'Medical and Dental': ['PEDIATRICS', 'CLEVELAND CLINIC', 'METROHEALTH', 'WESTERN RESERVE PERIO'],\n",
    "        'Pharmacy': ['CVS', 'WALGREENS']\n",
    "    },\n",
    "    'Home & Garden': {\n",
    "        'House Maintenance': ['HOME DEPOT'],\n",
    "        'Furnishing': ['WORLD', 'REFURNISHING', 'KOALA', 'WAYFAIR'],\n",
    "        'Garden': ['BREMEC', 'LANDSCAPE', 'STUMP', 'NATURE CENTER']\n",
    "    },\n",
    "    'Subscriptions': {\n",
    "        'Subscription': ['SPOTIFY', 'APPLE', 'NETFLIX', 'AUDIBLE', 'PEACOCK', 'WALL', 'BITDEFENDER', 'MICROSOFT', 'HULU', 'NYTIMES', 'IDEASTREAM', 'WSJ']\n",
    "    },\n",
    "    'Shopping': {\n",
    "        'Amazon': ['AMAZON', 'AMZN'],\n",
    "        'Department Store': ['TARGET', 'MACY'],\n",
    "        'Clothes': ['REI', 'NORDSTROM', 'DICK', 'DSW', 'AVALON', 'MARSHALLS', 'ANN TAYLOR', 'AMERICAN EAGLE', 'FOOTWEAR'],\n",
    "        'Kindle n Books': ['KINDLE', 'AUDIOTEKA', 'LOGANBERRY', 'EMPIK'],\n",
    "        'Software n Accessories': ['CLIP STUDIO', 'ALIEXPRESS'],\n",
    "        'Gifts': ['FIDDLEHEAD', 'PASSPORT', 'DIAMONDS FLOWERS', 'BUNDT', 'ALL CITY CANDY'],\n",
    "        'Kids Toys': ['PLAYMATTERS', 'DISNEYSTORE'],\n",
    "        'Cycling' : ['BIKES']\n",
    "    },\n",
    "    'Pets': {\n",
    "        'Cat Food n Supplies': ['PET', 'CHEWY', 'HOLLYWOOD FEED', 'JACKSON GALAXY'],\n",
    "        'Cat Health': ['VETERINARY']\n",
    "    },\n",
    "    # ENTERTAINMENT n GIFTS\n",
    "            # MOVIES THEATER COMPUTER GAMES BIRTHDAY CAKES BDAY DINNERS ETC\n",
    "            # NOTE: CLEVELAND INSTITUTE OF CLEVELAND ==== CIA CINEMATEQUE\n",
    "            # MUSEUM ===== includes THE CHILDRENS MUSEUM O CLEVELAND OH \n",
    "            # GREATER CLEVELAND AQUA ==== CLEVELAND AQUARIUM\n",
    "            # MANGO MANGO DESSE CLEVELAND ===== mango mango dessert Sof's birthday with Felix\n",
    "            # DIAMONDS FLOWERS ========= flower shop Coventry\n",
    "    'Entertainment': {\n",
    "        'Fun Out': ['GREATER CLEVELAND AQUA', 'MITCHELL', 'BORDERLIGHT',\\\n",
    "                                      'SWEET FIX', 'STONE OVEN', 'MANGO MANGO DESSE',\\\n",
    "                                          'ON THE RISE', 'RISING STAR COFFEE', 'MICHAELS', 'UPTOWN MART', 'ELLIE-MAYS', '6 FLAVORS INDIAN', 'LUXE KITCHEN'],\n",
    "        'Movies n Theater': ['VUDU', 'FANDANGO', 'DOBAMA','THEAT', 'CLEVELAND PUBLIC', 'CLEVELAND INSTITUTE OF CLEVELAND',\\\n",
    "                                   'MOVIE', 'PRIME VIDEO', 'BORDERLIGHT', 'CINEMA'],\n",
    "        'Music n Games': ['STEAMGAMES', 'BANDCAMP']\n",
    "    },\n",
    "    'Political': {\n",
    "        'Political Donations': ['ACTBLUE']\n",
    "    },\n",
    "    'Professional': {\n",
    "        'Professional Fees': ['LICENSURE', 'LICENSE']\n",
    "    },\n",
    "    'Travel': {\n",
    "        'Air Travel': ['LOT ', 'AMERICAN', 'EXPEDIA'],\n",
    "        'Visiting Grandma Ela': ['PLUSKI', 'OLSZTYN', re.compile(r' POL$'), re.compile(r' IL$')],\n",
    "        'Vacation SC': ['FOLLY', 'VIATORTRIPADVISOR', 'VACASA', 'VRBO', re.compile(r' SC$'), re.compile(r' NC$'), re.compile(r' WV$')],\n",
    "        'Visiting Wanda': [re.compile(r' VA$'), re.compile(r' GA$'), re.compile(r' MD$')],\n",
    "        'Visiting Eva': ['PITTSBURGH', 'TURNPIKE', re.compile(r' PA$')]\n",
    "    },\n",
    "    'Other': {\n",
    "        'PAYMENT': ['PAYMENT'],\n",
    "        'Accounted Elsewhere': ['DELTA DENTAL']\n",
    "    }\n",
    "}\n",
    "\n",
    "# Convert the hierarchical dictionary into a DataFrame for easier processing\n",
    "categories_list = []\n",
    "for category, subcategories in categories_data.items():\n",
    "    for subcategory, keywords in subcategories.items():\n",
    "        categories_list.append({'Category': category, 'Subcategory': subcategory, 'DescriptionKeywords': keywords})\n",
    "\n",
    "categories_df = pd.DataFrame(categories_list)"
   ]
  },
  {
   "cell_type": "markdown",
   "metadata": {},
   "source": [
    "Function to Categorize Transactions:\n",
    "Create a function that uses the reference table to categorize transactions based on the description."
   ]
  },
  {
   "cell_type": "code",
   "execution_count": 126,
   "metadata": {},
   "outputs": [],
   "source": [
    "def categorize_transaction(description, categories_df):\n",
    "    description_upper = description.upper() \n",
    "    for index, row in categories_df.iterrows():\n",
    "        for keyword in row['DescriptionKeywords']:\n",
    "            if isinstance(keyword, str) and keyword in description_upper:\n",
    "                return row['Category'], row['Subcategory']\n",
    "            elif isinstance(keyword, re.Pattern) and keyword.search(description_upper):\n",
    "                return row['Category'], row['Subcategory']\n",
    "    return 'Uncategorized', 'Uncategorized'"
   ]
  },
  {
   "cell_type": "code",
   "execution_count": 127,
   "metadata": {},
   "outputs": [],
   "source": [
    "def load_and_append(file_path, current_df):\n",
    "    \"\"\"\n",
    "    Load a CSV file and append its content to the current DataFrame.\n",
    "\n",
    "    Parameters:\n",
    "    - file_path: str, the path to the new CSV file\n",
    "    - current_df: pd.DataFrame, the current DataFrame\n",
    "\n",
    "    Returns:\n",
    "    - pd.DataFrame, the updated DataFrame with the new data appended\n",
    "    \"\"\"\n",
    "    # Load the new DataFrame from the CSV file\n",
    "    new_df = pd.read_excel(file_path)\n",
    "\n",
    "    # Append the new DataFrame to the current DataFrame\n",
    "    updated_df = pd.concat([current_df, new_df], ignore_index=True)\n",
    "\n",
    "    return updated_df"
   ]
  },
  {
   "cell_type": "code",
   "execution_count": 128,
   "metadata": {},
   "outputs": [
    {
     "name": "stdout",
     "output_type": "stream",
     "text": [
      "        Date  Amount                             Description  Ref.#\n",
      "0 2025-01-30  -36.56  DAVE'S SUPERMARKET #22 CLEVELAND HTSOH   6089\n",
      "1 2025-01-30  -12.95                   SPOTIFY 8777781161 NY   4123\n",
      "2 2025-01-30   -5.00    IDEASTREAM PUBLIC MEDI 2169166100 OH   4123\n",
      "3 2025-01-29  -12.16         WALGREENS #4130 CLEVELAND HEIOH   6089\n",
      "4 2025-01-28  208.39     WF *WAYFAIR4356136972 8662638325 MA   4123\n",
      "        Date   Amount                                Description  Ref.#\n",
      "0 2025-01-31  -131.32                             NEORSD WEB PAY    NaN\n",
      "1 2025-01-31   -56.08      ENBRIDGE GAS OHIBILLPAY 5500044461403    NaN\n",
      "2 2025-01-31 -6133.73  INTERNET TRF TO CCA XXXXXXXXXXXX4123 0101    NaN\n",
      "3 2025-01-29 -1487.31          BILL PAY:WFHM 708 057939 PB51TFEM    NaN\n",
      "4 2025-01-28  -211.51                   VERIZON WIRELESSPAYMENTS    NaN\n"
     ]
    },
    {
     "data": {
      "text/html": [
       "<div>\n",
       "<style scoped>\n",
       "    .dataframe tbody tr th:only-of-type {\n",
       "        vertical-align: middle;\n",
       "    }\n",
       "\n",
       "    .dataframe tbody tr th {\n",
       "        vertical-align: top;\n",
       "    }\n",
       "\n",
       "    .dataframe thead th {\n",
       "        text-align: right;\n",
       "    }\n",
       "</style>\n",
       "<table border=\"1\" class=\"dataframe\">\n",
       "  <thead>\n",
       "    <tr style=\"text-align: right;\">\n",
       "      <th></th>\n",
       "      <th>Date</th>\n",
       "      <th>Amount</th>\n",
       "      <th>Description</th>\n",
       "      <th>Ref.#</th>\n",
       "    </tr>\n",
       "  </thead>\n",
       "  <tbody>\n",
       "    <tr>\n",
       "      <th>0</th>\n",
       "      <td>2025-01-31</td>\n",
       "      <td>-131.32</td>\n",
       "      <td>NEORSD WEB PAY</td>\n",
       "      <td>NaN</td>\n",
       "    </tr>\n",
       "    <tr>\n",
       "      <th>1</th>\n",
       "      <td>2025-01-31</td>\n",
       "      <td>-56.08</td>\n",
       "      <td>ENBRIDGE GAS OHIBILLPAY 5500044461403</td>\n",
       "      <td>NaN</td>\n",
       "    </tr>\n",
       "    <tr>\n",
       "      <th>2</th>\n",
       "      <td>2025-01-31</td>\n",
       "      <td>-6133.73</td>\n",
       "      <td>INTERNET TRF TO CCA XXXXXXXXXXXX4123 0101</td>\n",
       "      <td>NaN</td>\n",
       "    </tr>\n",
       "    <tr>\n",
       "      <th>3</th>\n",
       "      <td>2025-01-29</td>\n",
       "      <td>-1487.31</td>\n",
       "      <td>BILL PAY:WFHM 708 057939 PB51TFEM</td>\n",
       "      <td>NaN</td>\n",
       "    </tr>\n",
       "    <tr>\n",
       "      <th>4</th>\n",
       "      <td>2025-01-28</td>\n",
       "      <td>-211.51</td>\n",
       "      <td>VERIZON WIRELESSPAYMENTS</td>\n",
       "      <td>NaN</td>\n",
       "    </tr>\n",
       "  </tbody>\n",
       "</table>\n",
       "</div>"
      ],
      "text/plain": [
       "        Date   Amount                                Description  Ref.#\n",
       "0 2025-01-31  -131.32                             NEORSD WEB PAY    NaN\n",
       "1 2025-01-31   -56.08      ENBRIDGE GAS OHIBILLPAY 5500044461403    NaN\n",
       "2 2025-01-31 -6133.73  INTERNET TRF TO CCA XXXXXXXXXXXX4123 0101    NaN\n",
       "3 2025-01-29 -1487.31          BILL PAY:WFHM 708 057939 PB51TFEM    NaN\n",
       "4 2025-01-28  -211.51                   VERIZON WIRELESSPAYMENTS    NaN"
      ]
     },
     "execution_count": 128,
     "metadata": {},
     "output_type": "execute_result"
    }
   ],
   "source": [
    "# Load the CSV files with credit card and checking card records\n",
    "creditcard_filename = '2025-01-A&T-CCard.xlsx'\n",
    "checking_filename = '2025-01-A&T-CheckingAcct.xlsx'\n",
    "\n",
    "output_datafile_summary = '2025-01-A&T-SUMMARY.csv'\n",
    "categorized_expenses_filename = '2025-01-A&T-CATEGORIZED.csv'\n",
    "\n",
    "df_credit = pd.read_excel(creditcard_filename)\n",
    "df_checking = pd.read_excel(checking_filename)\n",
    "print(df_credit.head())\n",
    "print(df_checking.head())\n",
    "\n",
    "# Check the first few rows to understand the structure of your data.\n",
    "df = pd.concat([df_checking, df_credit], ignore_index=True)\n",
    "df.head()"
   ]
  },
  {
   "cell_type": "code",
   "execution_count": 129,
   "metadata": {},
   "outputs": [],
   "source": [
    "df = load_and_append('2024-10-A&T-CCard.xlsx', df)\n",
    "df = load_and_append('2024-10-A&T-CheckingAcct.xlsx', df)\n",
    "df = load_and_append('2024-11-A&T-CCard.xlsx', df)\n",
    "df = load_and_append('2024-11-A&T-CheckingAcct.xlsx', df)\n",
    "df = load_and_append('2024-12-A&T-CCard.xlsx', df)\n",
    "df = load_and_append('2024-12-A&T-CheckingAcct.xlsx', df)"
   ]
  },
  {
   "cell_type": "code",
   "execution_count": 130,
   "metadata": {},
   "outputs": [
    {
     "name": "stdout",
     "output_type": "stream",
     "text": [
      "          Date  Amount                             Description   Ref.#  \\\n",
      "75  2025-01-10  -21.59          VUDU.COM FANDANGO SUNNYVALE CA  4123.0   \n",
      "90  2025-01-04   -3.23          VUDU.COM FANDANGO SUNNYVALE CA  4123.0   \n",
      "108 2024-09-27   -7.25  SQ *RISING STAR COFFEE Shaker HeightOH  4123.0   \n",
      "56  2025-01-17  -10.63   BANDCAMP GONDWANA RECO BANDCAMP.CO CA  4123.0   \n",
      "104 2024-09-29   -4.31          VUDU.COM FANDANGO SUNNYVALE CA  4123.0   \n",
      "..         ...     ...                                     ...     ...   \n",
      "54  2025-01-18   -6.46  GOOGLE *Symfonium Musi g.co/helppay#CA  4123.0   \n",
      "13  2025-01-07  -40.00                        PAYPAL INST XFER     NaN   \n",
      "142 2024-09-12   -5.00  2689PEPSIVEN9147678600 ELK GROVE VILIL  4123.0   \n",
      "130 2024-09-14  -85.85      USPS PO 3816550181 CLEVELAND HEIOH  4123.0   \n",
      "96  2025-01-01  -91.80        CENTER FOR INTUITIVE P WARREN OH  6089.0   \n",
      "\n",
      "          Category       Subcategory  \n",
      "75   Entertainment  Movies n Theater  \n",
      "90   Entertainment  Movies n Theater  \n",
      "108  Entertainment           Fun Out  \n",
      "56   Entertainment     Music n Games  \n",
      "104  Entertainment  Movies n Theater  \n",
      "..             ...               ...  \n",
      "54   Uncategorized     Uncategorized  \n",
      "13   Uncategorized     Uncategorized  \n",
      "142  Uncategorized     Uncategorized  \n",
      "130  Uncategorized     Uncategorized  \n",
      "96   Uncategorized     Uncategorized  \n",
      "\n",
      "[211 rows x 6 columns]\n"
     ]
    }
   ],
   "source": [
    "\n",
    "# Apply the function to categorize transactions\n",
    "df[['Category', 'Subcategory']] = df['Description'].apply(lambda x: pd.Series(categorize_transaction(x, categories_df)))\n",
    "\n",
    "sorted_df = df.sort_values(by='Category')\n",
    "# Print the categorized DataFrame\n",
    "print(sorted_df)\n",
    "\n",
    "sorted_df.to_csv(categorized_expenses_filename)"
   ]
  },
  {
   "cell_type": "markdown",
   "metadata": {},
   "source": [
    "Categorize the transactions:\n",
    "\n",
    "Add a new column for categories. You can create a function to categorize transactions based on the description or other columns."
   ]
  },
  {
   "cell_type": "markdown",
   "metadata": {},
   "source": [
    "Convert the date column to datetime:\n",
    "\n",
    "Ensure the date column is in datetime format."
   ]
  },
  {
   "cell_type": "code",
   "execution_count": 131,
   "metadata": {},
   "outputs": [
    {
     "name": "stdout",
     "output_type": "stream",
     "text": [
      "Category   Entertainment   Fees     Food  Health & Beauty  Home & Garden  \\\n",
      "YearMonth                                                                  \n",
      "2024-09           -70.37 -12.66 -1619.35          -429.47           0.00   \n",
      "2025-01          -149.09  -0.64 -1975.90         -1172.55        -698.02   \n",
      "\n",
      "Category   Housing   Income  Insurance   Other  Payments   Pets  Political  \\\n",
      "YearMonth                                                                    \n",
      "2024-09   -2046.88   5000.0    -794.62 -162.36      0.00 -218.5      -26.0   \n",
      "2025-01   -2092.97  11500.0    -997.49 -162.36  -6133.73  -92.6        0.0   \n",
      "\n",
      "Category   Shopping  Subscriptions   Taxes  Transportation  Travel  \\\n",
      "YearMonth                                                            \n",
      "2024-09     -434.52        -108.47 -292.70         -104.82 -479.16   \n",
      "2025-01     -490.10        -132.34 -276.59          -32.10 -357.00   \n",
      "\n",
      "Category   Uncategorized  \n",
      "YearMonth                 \n",
      "2024-09          -113.15  \n",
      "2025-01          -257.93  \n"
     ]
    }
   ],
   "source": [
    "# Convert the date column to datetime:\n",
    "# Ensure the date column is in datetime format.\n",
    "\n",
    "df['Date'] = pd.to_datetime(df['Date'])\n",
    "\n",
    "#Group by month:\n",
    "# Extract the month and year from the date column and group the data by these values.\n",
    "\n",
    "df['YearMonth'] = df['Date'].dt.to_period('M')\n",
    "\n",
    "# Summarize expenses by category for each month\n",
    "monthly_expenses = df.groupby(['YearMonth', 'Category'])['Amount'].sum().unstack().fillna(0)\n",
    "\n",
    "print(monthly_expenses)\n",
    "monthly_expenses.to_csv(output_datafile_summary, index=False)"
   ]
  },
  {
   "cell_type": "markdown",
   "metadata": {},
   "source": [
    "Analyze and visualize the data:\n",
    "\n",
    "You can now analyze the monthly expenses by category and create visualizations."
   ]
  },
  {
   "cell_type": "code",
   "execution_count": 132,
   "metadata": {},
   "outputs": [
    {
     "data": {
      "image/png": "[encoded data removed]",
      "text/plain": [
       "<Figure size 1000x600 with 1 Axes>"
      ]
     },
     "metadata": {},
     "output_type": "display_data"
    }
   ],
   "source": [
    "import matplotlib.pyplot as plt\n",
    "\n",
    "# Plot monthly expenses by category\n",
    "monthly_expenses.plot(kind='bar', stacked=True, figsize=(10, 6))\n",
    "plt.title('Monthly Expenses by Category')\n",
    "plt.xlabel('Month')\n",
    "plt.ylabel('Amount ($)')\n",
    "plt.show()"
   ]
  }
 ],
 "metadata": {
  "kernelspec": {
   "display_name": "ant-finances-analysis-env",
   "language": "python",
   "name": "python3"
  },
  "language_info": {
   "codemirror_mode": {
    "name": "ipython",
    "version": 3
   },
   "file_extension": ".py",
   "mimetype": "text/x-python",
   "name": "python",
   "nbconvert_exporter": "python",
   "pygments_lexer": "ipython3",
   "version": "3.9.21"
  }
 },
 "nbformat": 4,
 "nbformat_minor": 2
}
