{
 "cells": [
  {
   "cell_type": "code",
   "execution_count": 38,
   "metadata": {},
   "outputs": [],
   "source": [
    "import pandas as pd"
   ]
  },
  {
   "cell_type": "markdown",
   "metadata": {},
   "source": [
    "### CATEGORIZE EXPENSES"
   ]
  },
  {
   "cell_type": "code",
   "execution_count": 39,
   "metadata": {},
   "outputs": [
    {
     "name": "stdout",
     "output_type": "stream",
     "text": [
      "                    Category\n",
      "0                 A: Morgage\n",
      "1       A: Medical Insurance\n",
      "2           B: Car Insurance\n",
      "3       B: Utilities n Bills\n",
      "4   C: Paper Check - Aikido?\n",
      "5        C: Cash Withdrawals\n",
      "6            I: Anita Income\n",
      "7       I: Fidelity Transfer\n",
      "8       I: KeyBank cash-back\n",
      "9                   T: Taxes\n",
      "10           V: Visa Payment\n",
      "11          U: Uncategorized\n"
     ]
    }
   ],
   "source": [
    "categories = [  \n",
    "                'A: Morgage',\n",
    "                'A: Medical Insurance',\n",
    "                'B: Car Insurance',\n",
    "                'B: Utilities n Bills',\n",
    "                'C: Paper Check - Aikido?',\n",
    "                'C: Cash Withdrawals',\n",
    "                'C: College Tuition',\n",
    "                'I: Anita Income',\n",
    "                'I: Fidelity Transfer',\n",
    "                'I: KeyBank cash-back',\n",
    "                'T: Taxes',\n",
    "                'V: Visa Payment',\n",
    "                'U: Uncategorized', \n",
    "                ]\n",
    "\n",
    "all_categories = pd.DataFrame({'Category': categories})\n",
    "print(all_categories)\n",
    "\n",
    "def get_category(expense_category):\n",
    "    if expense_category not in categories:\n",
    "        print(f\"ERROR ! Category '{expense_category}' does not exist in the predefined categories.\")\n",
    "    return expense_category"
   ]
  },
  {
   "cell_type": "code",
   "execution_count": 46,
   "metadata": {},
   "outputs": [],
   "source": [
    "import re # re.search etc. regular expressions\n",
    "\n",
    "def categorize(description):\n",
    "\n",
    "    # Morgage WFHM Wells Fargo Home Morgage\n",
    "    if 'WFHM' in description.upper():\n",
    "        return get_category('A: Morgage')\n",
    "    # Medical Insurance\n",
    "    #   VSP Vision Care\n",
    "    #   ROCKWELL\n",
    "    elif    'MEDICARE' in description.upper()           or 'VSP' in description.upper() \\\n",
    "            or 'UNITEDHEALTHCARE' in description.upper() \\\n",
    "            or 'ROCKWELL ' in description.upper()       or 'AARP HEALTH' in description.upper() :\n",
    "        return  get_category('A: Medical Insurance') \n",
    "    # Car Insurance\n",
    "    elif 'LIBERTY MUTUAL' in description.upper():\n",
    "        return get_category('B: Car Insurance')\n",
    "    # Utilities n Bills\n",
    "    #   CWD Cleveland Dept of Water\n",
    "    #   ENBRIDGE GAS\n",
    "    #   CLEVELAND HEIGHTS sewage ???\n",
    "    #   NEORSD Northeast Ohio Sewer District\n",
    "    elif    'VERIZON' in description.upper()                or 'DOMINION ' in description.upper()\\\n",
    "            or 'FIRST ENERGY' in description.upper()        or 'NORTHEAST OHIO' in description.upper() \\\n",
    "            or 'CLEVELAND HEIGHTS ' in description.upper()  or 'ENBRIDGE GAS ' in description.upper() \\\n",
    "            or 'ATT ' in description.upper()                or 'NEORSD ' in description.upper() \\\n",
    "            or 'CWD ' in description.upper() :\n",
    "        return  get_category('B: Utilities n Bills')\n",
    "    # Paper check\n",
    "    elif    'CHECK' in description.upper():\n",
    "        return  get_category('C: Paper Check - Aikido?')\n",
    "    # Paper check\n",
    "    elif    'ATM ' in description.upper():\n",
    "        return  get_category('C: Cash Withdrawals')\n",
    "    # College Tuition\n",
    "    elif    'SMARTPAYCIA' in description.upper()           or 'CASHNET' in description.upper():\n",
    "        return  get_category('C: College Tuition')\n",
    "    # Anita income \n",
    "    elif    'ZELLE DEP ANITA' in description.upper() :\n",
    "        return  get_category('I: Anita Income')\n",
    "    # Fidelity Transfer\n",
    "    elif 'FID ' in description.upper():\n",
    "        return get_category('I: Fidelity Transfer')    \n",
    "    # KeyBank cash-back\n",
    "    elif    'KEY REWARDS' in description.upper() or 'GIFT FROM KEY BANK' in description.upper() :\n",
    "        return  get_category('I: KeyBank cash-back')\n",
    "    # Taxes and Tax refunds\n",
    "    elif    'TAXREFUND' in description.upper() or 'IRS ' in description.upper() \\\n",
    "            or 'TAX REF' in description.upper() or 'RITA ' in description.upper() :\n",
    "        return  get_category('T: Taxes')\n",
    "    # Visa Payment\n",
    "    elif 'INTERNET TRF TO CCA' in description.upper():\n",
    "        return get_category('V: Visa Payment')    \n",
    "    # OTHER\n",
    "    else:\n",
    "        return  get_category('U: Uncategorized')"
   ]
  },
  {
   "cell_type": "code",
   "execution_count": 47,
   "metadata": {},
   "outputs": [],
   "source": [
    "def categorize_all(input_period):\n",
    "    # acct_suffix = \"CCard\"\n",
    "    acct_suffix = 'CheckingAcct'\n",
    "    input_datafile = input_period + '-A&T-' + acct_suffix + '.xlsx'\n",
    "    output_datafile_categorized = input_period + '-A&T-' + acct_suffix + '-CATEGORIZED.csv'\n",
    "    output_datafile_categorized_sorted = input_period + '-A&T-' + acct_suffix + '-SORTED-BY-CATEGORY.csv'\n",
    "    output_datafile_summary = input_period + '-A&T-' + acct_suffix + '-SUMMARY.csv'\n",
    "\n",
    "    # Load the data\n",
    "    data = pd.read_excel(input_datafile)\n",
    "    data.columns = ['Date', 'Amount', 'Description', 'Ref,#']\n",
    "\n",
    "    # Categorize by description and add Category column\n",
    "    data['Category'] = data['Description'].apply(categorize)\n",
    "    # Save the updated DataFrame to a new CSV file\n",
    "    data.to_csv(output_datafile_categorized, index=False)\n",
    "\n",
    "    # Group transactions by category (e.g., food, clothing, entertainment) and calculate total amounts for each category\n",
    "    # categories = ['Groceries', 'Subscription', 'Dining Out']\n",
    "    sorted_by_category = data.sort_values(by='Category', ascending=True)\n",
    "    # save sorted data to a file\n",
    "    sorted_by_category.to_csv(output_datafile_categorized_sorted)\n",
    "\n",
    "    # Summarize amounts in grouped categories\n",
    "    grouped_summary = data.groupby('Category')['Amount'].sum().reset_index()\n",
    "    \n",
    "    #cat_num = data[\"Category\"].nunique()\n",
    "    cat_num = all_categories[\"Category\"].nunique()\n",
    "    merged_summary = all_categories.merge(grouped_summary, on='Category', how='left')\n",
    "    merged_summary = merged_summary.fillna(0)\n",
    "    print(merged_summary)\n",
    "\n",
    "    # sorted_summary = grouped_summary.sort_values(by='Amount', ascending=False).head(cat_num)\n",
    "    sorted_summary = merged_summary.sort_values(by='Category', ascending=True).head(cat_num)\n",
    "    sorted_summary.to_csv(output_datafile_summary, index=False)"
   ]
  },
  {
   "cell_type": "code",
   "execution_count": 48,
   "metadata": {},
   "outputs": [
    {
     "name": "stdout",
     "output_type": "stream",
     "text": [
      "                    Category   Amount\n",
      "0                 A: Morgage -1408.78\n",
      "1       A: Medical Insurance  -781.36\n",
      "2           B: Car Insurance     0.00\n",
      "3       B: Utilities n Bills  -737.14\n",
      "4   C: Paper Check - Aikido?  -330.00\n",
      "5        C: Cash Withdrawals     0.00\n",
      "6            I: Anita Income  4000.00\n",
      "7       I: Fidelity Transfer  9000.00\n",
      "8       I: KeyBank cash-back   125.00\n",
      "9                   T: Taxes     0.00\n",
      "10           V: Visa Payment     0.00\n",
      "11          U: Uncategorized     0.00\n"
     ]
    }
   ],
   "source": [
    "categorize_all('2024-01')"
   ]
  },
  {
   "cell_type": "code",
   "execution_count": 49,
   "metadata": {},
   "outputs": [
    {
     "name": "stdout",
     "output_type": "stream",
     "text": [
      "                    Category   Amount\n",
      "0                 A: Morgage -1408.78\n",
      "1       A: Medical Insurance -1325.06\n",
      "2           B: Car Insurance     0.00\n",
      "3       B: Utilities n Bills  -877.86\n",
      "4   C: Paper Check - Aikido?  -150.00\n",
      "5        C: Cash Withdrawals  -300.00\n",
      "6            I: Anita Income  7000.00\n",
      "7       I: Fidelity Transfer     0.00\n",
      "8       I: KeyBank cash-back     0.00\n",
      "9                   T: Taxes     0.00\n",
      "10           V: Visa Payment -5022.73\n",
      "11          U: Uncategorized     0.00\n"
     ]
    }
   ],
   "source": [
    "categorize_all('2024-02')"
   ]
  },
  {
   "cell_type": "code",
   "execution_count": 50,
   "metadata": {},
   "outputs": [
    {
     "name": "stdout",
     "output_type": "stream",
     "text": [
      "                    Category   Amount\n",
      "0                 A: Morgage -1408.78\n",
      "1       A: Medical Insurance  -781.36\n",
      "2           B: Car Insurance -1354.50\n",
      "3       B: Utilities n Bills  -897.31\n",
      "4   C: Paper Check - Aikido? -2303.00\n",
      "5        C: Cash Withdrawals     0.00\n",
      "6            I: Anita Income  6500.00\n",
      "7       I: Fidelity Transfer  9000.00\n",
      "8       I: KeyBank cash-back     0.00\n",
      "9                   T: Taxes    21.00\n",
      "10           V: Visa Payment -5557.24\n",
      "11          U: Uncategorized     0.00\n"
     ]
    }
   ],
   "source": [
    "categorize_all('2024-03')"
   ]
  },
  {
   "cell_type": "code",
   "execution_count": 51,
   "metadata": {},
   "outputs": [
    {
     "name": "stdout",
     "output_type": "stream",
     "text": [
      "                    Category   Amount\n",
      "0                 A: Morgage -1408.78\n",
      "1       A: Medical Insurance  -781.36\n",
      "2           B: Car Insurance     0.00\n",
      "3       B: Utilities n Bills  -647.40\n",
      "4   C: Paper Check - Aikido?  -809.00\n",
      "5        C: Cash Withdrawals    58.20\n",
      "6            I: Anita Income  6200.00\n",
      "7       I: Fidelity Transfer     0.00\n",
      "8       I: KeyBank cash-back   482.02\n",
      "9                   T: Taxes -1050.00\n",
      "10           V: Visa Payment -6711.26\n",
      "11          U: Uncategorized     0.00\n"
     ]
    }
   ],
   "source": [
    "categorize_all('2024-04')"
   ]
  },
  {
   "cell_type": "code",
   "execution_count": 52,
   "metadata": {},
   "outputs": [
    {
     "name": "stdout",
     "output_type": "stream",
     "text": [
      "                    Category    Amount\n",
      "0                 A: Morgage  -1408.78\n",
      "1       A: Medical Insurance  -1305.46\n",
      "2           B: Car Insurance      0.00\n",
      "3       B: Utilities n Bills   -861.51\n",
      "4   C: Paper Check - Aikido?      0.00\n",
      "5        C: Cash Withdrawals      0.00\n",
      "6            I: Anita Income   6200.00\n",
      "7       I: Fidelity Transfer   6000.00\n",
      "8       I: KeyBank cash-back      0.00\n",
      "9                   T: Taxes      0.00\n",
      "10           V: Visa Payment -10531.66\n",
      "11          U: Uncategorized      0.00\n"
     ]
    }
   ],
   "source": [
    "categorize_all('2024-05')"
   ]
  },
  {
   "cell_type": "code",
   "execution_count": 53,
   "metadata": {},
   "outputs": [
    {
     "name": "stdout",
     "output_type": "stream",
     "text": [
      "                    Category   Amount\n",
      "0                 A: Morgage -1408.78\n",
      "1       A: Medical Insurance  -781.36\n",
      "2           B: Car Insurance     0.00\n",
      "3       B: Utilities n Bills  -724.12\n",
      "4   C: Paper Check - Aikido?  -300.00\n",
      "5        C: Cash Withdrawals     0.00\n",
      "6            I: Anita Income  5300.00\n",
      "7       I: Fidelity Transfer  9000.00\n",
      "8       I: KeyBank cash-back     0.00\n",
      "9                   T: Taxes     0.00\n",
      "10           V: Visa Payment -1000.00\n",
      "11          U: Uncategorized     0.00\n"
     ]
    }
   ],
   "source": [
    "categorize_all('2024-06')"
   ]
  },
  {
   "cell_type": "code",
   "execution_count": 54,
   "metadata": {},
   "outputs": [
    {
     "name": "stdout",
     "output_type": "stream",
     "text": [
      "                    Category    Amount\n",
      "0                 A: Morgage  -1565.84\n",
      "1       A: Medical Insurance   -781.36\n",
      "2           B: Car Insurance      0.00\n",
      "3       B: Utilities n Bills   -823.11\n",
      "4   C: Paper Check - Aikido?   -420.00\n",
      "5        C: Cash Withdrawals      0.00\n",
      "6            I: Anita Income   6500.00\n",
      "7       I: Fidelity Transfer  12000.00\n",
      "8       I: KeyBank cash-back      0.00\n",
      "9                   T: Taxes      0.00\n",
      "10           V: Visa Payment  -5752.65\n",
      "11          U: Uncategorized  -8382.15\n"
     ]
    }
   ],
   "source": [
    "categorize_all('2024-07')"
   ]
  },
  {
   "cell_type": "code",
   "execution_count": null,
   "metadata": {},
   "outputs": [],
   "source": [
    "categorize_all('2024-08')"
   ]
  },
  {
   "cell_type": "code",
   "execution_count": null,
   "metadata": {},
   "outputs": [],
   "source": [
    "\n",
    "categorize_all('2024-09')"
   ]
  }
 ],
 "metadata": {
  "kernelspec": {
   "display_name": "FinanceAnalystThuVuKali",
   "language": "python",
   "name": "python3"
  },
  "language_info": {
   "codemirror_mode": {
    "name": "ipython",
    "version": 3
   },
   "file_extension": ".py",
   "mimetype": "text/x-python",
   "name": "python",
   "nbconvert_exporter": "python",
   "pygments_lexer": "ipython3",
   "version": "3.12.6"
  }
 },
 "nbformat": 4,
 "nbformat_minor": 2
}
